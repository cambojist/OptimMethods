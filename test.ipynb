{
 "cells": [
  {
   "cell_type": "code",
   "execution_count": 1,
   "metadata": {},
   "outputs": [],
   "source": [
    "from math import sqrt, sin, exp\n",
    "import numpy as np\n",
    "\n",
    "from minimize_method.one_dim_minimize.zero_order import gold, dyhotomy, approximation\n",
    "from minimize_method.one_dim_minimize.first_order import horde, min_midlle_point \n",
    "from minimize_method.one_dim_minimize.second_order import newton\n",
    "\n",
    "from minimize_method.neuro_minimize.neuro_min import pso, annealing"
   ]
  },
  {
   "cell_type": "code",
   "execution_count": 2,
   "metadata": {},
   "outputs": [],
   "source": [
    "# Zirilli function\n",
    "# bounds [-10; 10]\n",
    "# global minimum x = (-1.0465, 0) f(x) = -0.3523\n",
    "\n",
    "def f1(x):\n",
    "    return 0.25*x[0]**4 - 0.5*x[0]**2 + 0.1*x[0] + 0.5*x[1]**2"
   ]
  },
  {
   "cell_type": "code",
   "execution_count": 3,
   "metadata": {},
   "outputs": [],
   "source": [
    "# Zettl function\n",
    "# bounds [-5; 10]\n",
    "# global minimum x = (-0.0299, 0) f(x) = -0.003791\n",
    "\n",
    "def f2(x):\n",
    "    return (x[0]**2 + x[1]**2 - 2*x[0])**2 + 0.25*x[0]"
   ]
  },
  {
   "cell_type": "code",
   "execution_count": 4,
   "metadata": {},
   "outputs": [],
   "source": [
    "# Rotated Ellipse 2 function\n",
    "# bounds [-500; 500]\n",
    "# global minimum x = (0, 0) f(x) = 0\n",
    "\n",
    "def f3(x):\n",
    "    return x[0]**2 - x[0]*x[1] + x[1]**2"
   ]
  },
  {
   "cell_type": "code",
   "execution_count": 5,
   "metadata": {},
   "outputs": [],
   "source": [
    "# Schewefel 2.36 function\n",
    "# bounds [0; 500]\n",
    "# global minimum x = (12, 12) f(x) = -3456\n",
    "\n",
    "def f4(x):\n",
    "    return -x[0]*x[1]*(72 - 2*x[0] - 2*x[1])"
   ]
  },
  {
   "cell_type": "code",
   "execution_count": 6,
   "metadata": {},
   "outputs": [],
   "source": [
    "# Rotated Ellipse function\n",
    "# bounds [-500; 500]\n",
    "# global minimum x = (0, 0) f(x) = 0\n",
    "\n",
    "def f5(x):\n",
    "    return 7*x[0]**2 - 6*sqrt(3)*x[0]*x[1] + 13*x[1]**2"
   ]
  },
  {
   "cell_type": "code",
   "execution_count": null,
   "metadata": {},
   "outputs": [],
   "source": []
  },
  {
   "cell_type": "code",
   "execution_count": 7,
   "metadata": {},
   "outputs": [],
   "source": [
    "# bounds [0; 1]\n",
    "# global minimum x = 0.44712 f(x) = 3.7769\n",
    "\n",
    "def f6(x):\n",
    "    return x**2 + 4*exp(-0.25*x)\n",
    "\n",
    "def df6(x):\n",
    "    return 2*x - exp(-0.25*x)\n",
    "\n",
    "def d2f6(x):\n",
    "    return 0.25*exp(-0.25*x) + 2\n"
   ]
  },
  {
   "cell_type": "code",
   "execution_count": 8,
   "metadata": {},
   "outputs": [],
   "source": [
    "# bounds [-1; 1]\n",
    "# global minimum x = -0.35173 f(x) = 0.82718\n",
    "\n",
    "def f7(x):\n",
    "    return x**2 + exp(x)\n",
    "\n",
    "def df7(x):\n",
    "    return 2*x + exp(x)\n",
    "\n",
    "def d2f7(x):\n",
    "    return 2 + exp(x)"
   ]
  },
  {
   "cell_type": "code",
   "execution_count": 9,
   "metadata": {},
   "outputs": [],
   "source": [
    "# bounds [0; 1]\n",
    "# global minimum x = 0.824132 f(x) = -1.64213\n",
    "\n",
    "def f8(x):\n",
    "    return x**3 - 3*sin(x)\n",
    "\n",
    "def df8(x):\n",
    "    return 3*(x**2 - cos(x))\n",
    "\n",
    "def d2f6(x):\n",
    "    return 3*(2*x + sin(x))"
   ]
  },
  {
   "cell_type": "code",
   "execution_count": 10,
   "metadata": {},
   "outputs": [],
   "source": [
    "# bounds [1; 2]\n",
    "# global minimum x = 1.5759 f(x) = 2.6395\n",
    "\n",
    "def f9(x):\n",
    "    return x**4 + 4*x**3 - 3*x**2 - 36*x + 45\n",
    "\n",
    "def df9(x):\n",
    "    return 4*x**3 + 12*x**2 - 6*x - 36\n",
    "\n",
    "def d2f9(x):\n",
    "    return 6*(2*x**2 + 4*x - 1)"
   ]
  },
  {
   "cell_type": "code",
   "execution_count": 11,
   "metadata": {},
   "outputs": [],
   "source": [
    "# bounds [0; 3]\n",
    "# global minimum x = 0.94411 f(x) = 4.8853\n",
    "\n",
    "def f10(x):\n",
    "    return (3*x - 1)**2 + (2*x - 3)**4\n",
    "\n",
    "def df10(x):\n",
    "    return 8*(2*x - 3)**3 + 18*x - 6\n",
    "\n",
    "def d2f10(x):\n",
    "    return 48*(2*x - 3)**2 + 18"
   ]
  },
  {
   "cell_type": "code",
   "execution_count": null,
   "metadata": {},
   "outputs": [],
   "source": []
  },
  {
   "cell_type": "code",
   "execution_count": 12,
   "metadata": {},
   "outputs": [
    {
     "name": "stdout",
     "output_type": "stream",
     "text": [
      "Global minimum x: 0.4471101217378246\n",
      "Function: 3.776880170015919\n",
      "Iteration: 20\n",
      "\n",
      "Global minimum x: -0.35171332931518556\n",
      "Function: 0.8271840266890669\n",
      "Iteration: 15\n",
      "\n",
      "Global minimum x: 0.8238464998109576\n",
      "Function: -1.6421301210441066\n",
      "Iteration: 4\n",
      "\n"
     ]
    },
    {
     "data": {
      "text/plain": [
       "(0.8238464998109576, -1.6421301210441066, 4)"
      ]
     },
     "execution_count": 12,
     "metadata": {},
     "output_type": "execute_result"
    }
   ],
   "source": [
    "gold(f6, (0,1))\n",
    "dyhotomy(f7, (-1, 1))\n",
    "approximation(f8, 1)"
   ]
  },
  {
   "cell_type": "code",
   "execution_count": 13,
   "metadata": {},
   "outputs": [
    {
     "name": "stdout",
     "output_type": "stream",
     "text": [
      "Global minimum x: 1.5758848970596926\n",
      "Function: 2.639538720560779\n",
      "Iteration: 7\n",
      "\n",
      "Global minimum x: 0.9441061019897461\n",
      "Function: 4.8852646191445785\n",
      "Iteration: 19\n",
      "\n"
     ]
    },
    {
     "data": {
      "text/plain": [
       "(0.9441061019897461, 4.8852646191445785, 19)"
      ]
     },
     "execution_count": 13,
     "metadata": {},
     "output_type": "execute_result"
    }
   ],
   "source": [
    "horde(f9, df9, (1, 2))\n",
    "min_midlle_point(f10, df10, (0, 3)) "
   ]
  },
  {
   "cell_type": "code",
   "execution_count": null,
   "metadata": {},
   "outputs": [],
   "source": []
  },
  {
   "cell_type": "code",
   "execution_count": 14,
   "metadata": {},
   "outputs": [
    {
     "name": "stdout",
     "output_type": "stream",
     "text": [
      "Global minimum x: [11.99970607 11.99045785]\n",
      "Function: -3455.997745405628\n",
      "Iteration: 24\n",
      "\n",
      "Global minimum x: [-2.98956286e-02 -2.56065481e-06]\n",
      "Function: -0.0037912372191184346\n"
     ]
    },
    {
     "data": {
      "text/plain": [
       "(array([-2.98956286e-02, -2.56065481e-06]), -0.0037912372191184346)"
      ]
     },
     "execution_count": 14,
     "metadata": {},
     "output_type": "execute_result"
    }
   ],
   "source": [
    "annealing(f4, np.array([10, 10]))\n",
    "pso(f2, 2, 30)"
   ]
  },
  {
   "cell_type": "code",
   "execution_count": null,
   "metadata": {},
   "outputs": [],
   "source": []
  },
  {
   "cell_type": "code",
   "execution_count": null,
   "metadata": {},
   "outputs": [],
   "source": []
  }
 ],
 "metadata": {
  "kernelspec": {
   "display_name": "Python 3",
   "language": "python",
   "name": "python3"
  },
  "language_info": {
   "codemirror_mode": {
    "name": "ipython",
    "version": 3
   },
   "file_extension": ".py",
   "mimetype": "text/x-python",
   "name": "python",
   "nbconvert_exporter": "python",
   "pygments_lexer": "ipython3",
   "version": "3.7.1"
  }
 },
 "nbformat": 4,
 "nbformat_minor": 2
}
